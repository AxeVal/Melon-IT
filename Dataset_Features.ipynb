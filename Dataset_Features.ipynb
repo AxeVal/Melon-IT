{
 "cells": [
  {
   "cell_type": "markdown",
   "id": "202f5d40",
   "metadata": {},
   "source": [
    "# Features\n",
    "We have 17 features  in our dataset. Let's figure out what they mean."
   ]
  },
  {
   "cell_type": "markdown",
   "id": "811e2991",
   "metadata": {},
   "source": [
    "## Domain\n",
    "The domain that is present in the URL. \n",
    "This feature does not matter much when learning."
   ]
  },
  {
   "cell_type": "code",
   "execution_count": 3,
   "id": "fb3cd076",
   "metadata": {},
   "outputs": [],
   "source": [
    "def getDomain(url):  \n",
    "    domain = urlparse(url).netloc\n",
    "    if re.match(r\"^www.\",domain):\n",
    "        domain = domain.replace(\"www.\",\"\")\n",
    "    return domain"
   ]
  },
  {
   "cell_type": "markdown",
   "id": "eb3173c6",
   "metadata": {},
   "source": [
    "## Have_IP\n",
    "Checks for the presence of IP address in the URL. URLs may have IP address instead of domain name. If an IP address is used as an alternative of the domain name in the URL, we can be sure that someone is trying to steal personal information with this URL.\n",
    "\n",
    "If the domain part of URL has IP address, the value assigned to this feature is 1 (phishing) else 0 (legitimate)."
   ]
  },
  {
   "cell_type": "code",
   "execution_count": 5,
   "id": "ac4a425d",
   "metadata": {},
   "outputs": [],
   "source": [
    "def havingIP(url):\n",
    "    try:\n",
    "        ipaddress.ip_address(url)\n",
    "        ip = 1\n",
    "    except:\n",
    "        ip = 0\n",
    "    return ip"
   ]
  },
  {
   "cell_type": "markdown",
   "id": "3f9b03d1",
   "metadata": {},
   "source": [
    "## Have_At\n",
    "Checks for the presence of '@' symbol in the URL. \n",
    "\n",
    "If the URL has '@' symbol, the value assigned to this feature is 1 (phishing) else 0 (legitimate)."
   ]
  },
  {
   "cell_type": "code",
   "execution_count": 7,
   "id": "5be18e90",
   "metadata": {},
   "outputs": [],
   "source": [
    "def haveAtSign(url):\n",
    "    if \"@\" in url:\n",
    "        at = 1    \n",
    "    else:\n",
    "        at = 0    \n",
    "    return at"
   ]
  },
  {
   "cell_type": "markdown",
   "id": "b40caba9",
   "metadata": {},
   "source": [
    "## URL_Length\n",
    "Computes the length of the URL. \n",
    "\n",
    "If the length of URL >= 54 , the value assigned to this feature is 1 (phishing) else 0 (legitimate)."
   ]
  },
  {
   "cell_type": "code",
   "execution_count": 8,
   "id": "03f2a24b",
   "metadata": {},
   "outputs": [],
   "source": [
    "def getLength(url):\n",
    "    if len(url) < 54:\n",
    "        length = 0            \n",
    "    else:\n",
    "        length = 1            \n",
    "    return length"
   ]
  },
  {
   "cell_type": "markdown",
   "id": "d8e421f3",
   "metadata": {},
   "source": [
    "## URL_Depth\n",
    "This feature calculates the number of sub pages in the given url based on the '/'.\n",
    "\n",
    "The value of feature is a numerical based on the URL."
   ]
  },
  {
   "cell_type": "code",
   "execution_count": 9,
   "id": "6c047fe3",
   "metadata": {},
   "outputs": [],
   "source": [
    "def getDepth(url):\n",
    "    s = urlparse(url).path.split('/')\n",
    "    depth = 0\n",
    "    for j in range(len(s)):\n",
    "        if len(s[j]) != 0:\n",
    "            depth = depth+1\n",
    "    return depth"
   ]
  },
  {
   "cell_type": "markdown",
   "id": "f5e818d1",
   "metadata": {},
   "source": [
    "## Redirection\n",
    "Checks the presence of \"//\" in the URL. \n",
    "\n",
    "If the \"//\" is anywhere in the URL apart from after the protocal, thee value assigned to this feature is 1 (phishing) else 0 (legitimate)."
   ]
  },
  {
   "cell_type": "code",
   "execution_count": null,
   "id": "5f91f737",
   "metadata": {},
   "outputs": [],
   "source": [
    "def redirection(url):\n",
    "    pos = url.rfind('//')\n",
    "    if pos > 6:\n",
    "        if pos > 7:\n",
    "            return 1\n",
    "        else:\n",
    "            return 0\n",
    "    else:\n",
    "        return 0"
   ]
  },
  {
   "cell_type": "markdown",
   "id": "e1b53b09",
   "metadata": {},
   "source": [
    "## https_Domain\n",
    "Checks for the presence of \"http/https\" in the domain part of the URL.\n",
    "\n",
    "If the URL has \"http/https\" in the domain part, the value assigned to this feature is 1 (phishing) else 0 (legitimate)."
   ]
  },
  {
   "cell_type": "code",
   "execution_count": 10,
   "id": "255761a8",
   "metadata": {},
   "outputs": [],
   "source": [
    "def httpDomain(url):\n",
    "    domain = urlparse(url).netloc\n",
    "    if 'https' in domain:\n",
    "        return 1\n",
    "    else:\n",
    "        return 0"
   ]
  },
  {
   "cell_type": "markdown",
   "id": "cc508689",
   "metadata": {},
   "source": [
    "## TinyURL\n",
    "If the URL is using Shortening Services, the value assigned to this feature is 1 (phishing) else 0 (legitimate)."
   ]
  },
  {
   "cell_type": "code",
   "execution_count": 12,
   "id": "4c9f0ffc",
   "metadata": {},
   "outputs": [],
   "source": [
    "shortening_services = r\"bit\\.ly|goo\\.gl|shorte\\.st|go2l\\.ink|x\\.co|ow\\.ly|t\\.co|tinyurl|tr\\.im|is\\.gd|cli\\.gs|\" \\\n",
    "                      r\"yfrog\\.com|migre\\.me|ff\\.im|tiny\\.cc|url4\\.eu|twit\\.ac|su\\.pr|twurl\\.nl|snipurl\\.com|\" \\\n",
    "                      r\"short\\.to|BudURL\\.com|ping\\.fm|post\\.ly|Just\\.as|bkite\\.com|snipr\\.com|fic\\.kr|loopt\\.us|\" \\\n",
    "                      r\"doiop\\.com|short\\.ie|kl\\.am|wp\\.me|rubyurl\\.com|om\\.ly|to\\.ly|bit\\.do|t\\.co|lnkd\\.in|db\\.tt|\" \\\n",
    "                      r\"qr\\.ae|adf\\.ly|goo\\.gl|bitly\\.com|cur\\.lv|tinyurl\\.com|ow\\.ly|bit\\.ly|ity\\.im|q\\.gs|is\\.gd|\" \\\n",
    "                      r\"po\\.st|bc\\.vc|twitthis\\.com|u\\.to|j\\.mp|buzurl\\.com|cutt\\.us|u\\.bb|yourls\\.org|x\\.co|\" \\\n",
    "                      r\"prettylinkpro\\.com|scrnch\\.me|filoops\\.info|vzturl\\.com|qr\\.net|1url\\.com|tweez\\.me|v\\.gd|\" \\\n",
    "                      r\"tr\\.im|link\\.zip\\.net\"\n",
    "\n",
    "def tinyURL(url):\n",
    "    match=re.search(shortening_services,url)\n",
    "    if match:\n",
    "        return 1\n",
    "    else:\n",
    "        return 0"
   ]
  },
  {
   "cell_type": "markdown",
   "id": "3ae94580",
   "metadata": {},
   "source": [
    "## Prefix/Suffix\t\n",
    "Checking the presence of '-' in the domain part of URL. The dash symbol is rarely used in legitimate URLs.\n",
    "\n",
    "If the URL has '-' symbol in the domain part of the URL, the value assigned to this feature is 1 (phishing) else 0 (legitimate)."
   ]
  },
  {
   "cell_type": "code",
   "execution_count": 13,
   "id": "b616b98c",
   "metadata": {},
   "outputs": [],
   "source": [
    "def prefixSuffix(url):\n",
    "    if '-' in urlparse(url).netloc:\n",
    "        return 1\n",
    "    else:\n",
    "        return 0"
   ]
  },
  {
   "cell_type": "markdown",
   "id": "c5f375c6",
   "metadata": {},
   "source": [
    "## DNS_Record\n",
    "For phishing websites, either the claimed identity is not recognized by the WHOIS database or no records founded for the hostname. If the DNS record is empty or not found then, the value assigned to this feature is 1 (phishing) else 0 (legitimate)."
   ]
  },
  {
   "cell_type": "code",
   "execution_count": 16,
   "id": "da2fb8e1",
   "metadata": {},
   "outputs": [],
   "source": [
    "#!pip install python-whois"
   ]
  },
  {
   "cell_type": "markdown",
   "id": "746a6748",
   "metadata": {},
   "source": [
    "## Web_Traffic\n",
    "This feature measures the popularity of the website by determining the number of visitors and the number of pages they visit. However, since phishing websites live for a short period of time, they may not be recognized by the Alexa database (Alexa the Web Information Company., 1996). By reviewing our dataset, we find that in worst scenarios, legitimate websites ranked among the top 100,000. Furthermore, if the domain has no traffic or is not recognized by the Alexa database, it is classified as “Phishing”.\n",
    "\n",
    "If the rank of the domain < 100000, the vlaue of this feature is 1 (phishing) else 0 (legitimate)."
   ]
  },
  {
   "cell_type": "code",
   "execution_count": 17,
   "id": "e43506b1",
   "metadata": {},
   "outputs": [],
   "source": [
    "def web_traffic(url):\n",
    "    try:\n",
    "        url = urllib.parse.quote(url)\n",
    "        rank = BeautifulSoup(urllib.request.urlopen(\"http://data.alexa.com/data?cli=10&dat=s&url=\" + url).read(), \"xml\").find(\"REACH\")['RANK']\n",
    "        rank = int(rank)\n",
    "    except TypeError:\n",
    "        return 1\n",
    "    if rank <100000:\n",
    "        return 1\n",
    "    else:\n",
    "        return 0"
   ]
  },
  {
   "cell_type": "markdown",
   "id": "76710a78",
   "metadata": {},
   "source": [
    "## Domain_Age\n",
    "This feature can be extracted from WHOIS database.\n",
    "\n",
    "If age of domain > 12 months, the vlaue of this feature is 1 (phishing) else 0 (legitimate)."
   ]
  },
  {
   "cell_type": "code",
   "execution_count": 19,
   "id": "c6941931",
   "metadata": {},
   "outputs": [],
   "source": [
    "def domainAge(domain_name):\n",
    "    creation_date = domain_name.creation_date\n",
    "    expiration_date = domain_name.expiration_date\n",
    "    if (isinstance(creation_date,str) or isinstance(expiration_date,str)):\n",
    "        try:\n",
    "            creation_date = datetime.strptime(creation_date,'%Y-%m-%d')\n",
    "            expiration_date = datetime.strptime(expiration_date,\"%Y-%m-%d\")\n",
    "        except:\n",
    "            return 1\n",
    "    if ((expiration_date is None) or (creation_date is None)):\n",
    "        return 1\n",
    "    elif ((type(expiration_date) is list) or (type(creation_date) is list)):\n",
    "        return 1\n",
    "    else:\n",
    "        ageofdomain = abs((expiration_date - creation_date).days)\n",
    "        if ((ageofdomain/30) < 6):\n",
    "            age = 1\n",
    "        else:\n",
    "            age = 0\n",
    "    return age"
   ]
  },
  {
   "cell_type": "markdown",
   "id": "be9e437e",
   "metadata": {},
   "source": [
    "## Domain_End\n",
    "This feature can be extracted from WHOIS database.\n",
    "\n",
    "If end period of domain > 6 months, the vlaue of this feature is 1 (phishing) else 0 (legitimate)."
   ]
  },
  {
   "cell_type": "code",
   "execution_count": 20,
   "id": "38e11dd4",
   "metadata": {},
   "outputs": [],
   "source": [
    "def domainEnd(domain_name):\n",
    "    expiration_date = domain_name.expiration_date\n",
    "    if isinstance(expiration_date,str):\n",
    "        try:\n",
    "            expiration_date = datetime.strptime(expiration_date,\"%Y-%m-%d\")\n",
    "        except:\n",
    "            return 1\n",
    "    if (expiration_date is None):\n",
    "        return 1\n",
    "    elif (type(expiration_date) is list):\n",
    "        return 1\n",
    "    else:\n",
    "        today = datetime.now()\n",
    "        end = abs((expiration_date - today).days)\n",
    "        if ((end/30) < 6):\n",
    "            end = 0\n",
    "        else:\n",
    "            end = 1\n",
    "    return end"
   ]
  },
  {
   "cell_type": "markdown",
   "id": "02949a5d",
   "metadata": {},
   "source": [
    "## iFrame\n",
    "IFrame is an HTML tag used to display an additional webpage into one that is currently shown.\n",
    "\n",
    "If the iframe is empty or repsonse is not found then, the value assigned to this feature is 1 (phishing) else 0 (legitimate)."
   ]
  },
  {
   "cell_type": "code",
   "execution_count": 21,
   "id": "95d2a371",
   "metadata": {},
   "outputs": [],
   "source": [
    "def iframe(response):\n",
    "    if response == \"\":\n",
    "        return 1\n",
    "    else:\n",
    "        if re.findall(r\"[|]\", response.text):\n",
    "            return 0\n",
    "        else:\n",
    "            return 1"
   ]
  },
  {
   "cell_type": "markdown",
   "id": "847cd938",
   "metadata": {},
   "source": [
    "## Mouse_Over\n",
    "Phishers may use JavaScript to show a fake URL in the status bar to users. \n",
    "\n",
    "If the response is empty or onmouseover is found then, the value assigned to this feature is 1 (phishing)  else 0 (legitimate)."
   ]
  },
  {
   "cell_type": "code",
   "execution_count": 22,
   "id": "b9d133c2",
   "metadata": {},
   "outputs": [],
   "source": [
    "def mouseOver(response): \n",
    "    if response == \"\" :\n",
    "        return 1\n",
    "    else:\n",
    "        if re.findall(\"\", response.text):\n",
    "            return 1\n",
    "        else:\n",
    "            return 0"
   ]
  },
  {
   "cell_type": "markdown",
   "id": "89c70fd5",
   "metadata": {},
   "source": [
    "## Right_Click\n",
    "Phishers use JavaScript to disable the right-click function, so that users cannot view and save the webpage source code. \n",
    "\n",
    "If the response is empty or onmouseover is not found then, the value assigned to this feature is 1 (phishing) else 0 (legitimate)."
   ]
  },
  {
   "cell_type": "code",
   "execution_count": null,
   "id": "095b9d45",
   "metadata": {},
   "outputs": [],
   "source": [
    "def rightClick(response):\n",
    "    if response == \"\":\n",
    "        return 1\n",
    "    else:\n",
    "        if re.findall(r\"event.button ?== ?2\", response.text):\n",
    "            return 0\n",
    "        else:\n",
    "            return 1"
   ]
  },
  {
   "cell_type": "markdown",
   "id": "2a98f944",
   "metadata": {},
   "source": [
    "## Web_Forwards\n",
    "The fine line that distinguishes phishing websites from legitimate ones is how many times the website has been redirected. In our dataset, it was found that legitimate websites were redirected at most once. On the other hand, phishing websites containing this feature have been redirected at least 4 times."
   ]
  },
  {
   "cell_type": "code",
   "execution_count": 23,
   "id": "2f4b273c",
   "metadata": {},
   "outputs": [],
   "source": [
    "def forwarding(response):\n",
    "    if response == \"\":\n",
    "        return 1\n",
    "    else:\n",
    "        if len(response.history) <= 2:\n",
    "            return 0\n",
    "        else:\n",
    "            return 1"
   ]
  },
  {
   "cell_type": "markdown",
   "id": "83fbfbf6",
   "metadata": {},
   "source": [
    "## Label\n",
    "it's class of url :)"
   ]
  }
 ],
 "metadata": {
  "kernelspec": {
   "display_name": "Python 3 (ipykernel)",
   "language": "python",
   "name": "python3"
  },
  "language_info": {
   "codemirror_mode": {
    "name": "ipython",
    "version": 3
   },
   "file_extension": ".py",
   "mimetype": "text/x-python",
   "name": "python",
   "nbconvert_exporter": "python",
   "pygments_lexer": "ipython3",
   "version": "3.10.9"
  }
 },
 "nbformat": 4,
 "nbformat_minor": 5
}
